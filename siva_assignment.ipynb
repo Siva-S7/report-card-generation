{
 "cells": [
  {
   "cell_type": "code",
   "execution_count": 1,
   "id": "choice-affairs",
   "metadata": {},
   "outputs": [],
   "source": [
    "from tabulate import tabulate\n",
    "import pandas as pd\n",
    "import willow\n",
    "from PIL import Image\n",
    "from fpdf import FPDF"
   ]
  },
  {
   "cell_type": "code",
   "execution_count": 2,
   "id": "general-debate",
   "metadata": {},
   "outputs": [],
   "source": [
    "data=pd.read_excel(r'Dummy Data.xlsx')\n"
   ]
  },
  {
   "cell_type": "code",
   "execution_count": 3,
   "id": "suffering-parker",
   "metadata": {},
   "outputs": [],
   "source": [
    "data.columns=['Candidate No.','Round','First Name','Last Name','Full Name','Registration Number','Grade','Name of School','Gender','Date of Birth','City of Residence','Date and time of test','Country of Residence','Question No.','What you marked','Correct Answer','Outcome','Score if correct','Your score','Final result'] "
   ]
  },
  {
   "cell_type": "code",
   "execution_count": 4,
   "id": "applied-yemen",
   "metadata": {},
   "outputs": [],
   "source": [
    "data=data.drop(0)\n",
    "x=range(0,len(data))\n",
    "data.index=x"
   ]
  },
  {
   "cell_type": "code",
   "execution_count": 5,
   "id": "academic-signal",
   "metadata": {},
   "outputs": [],
   "source": [
    "name=data['Full Name'].unique()\n",
    "data['Your score'] = data['Your score'].apply(pd.to_numeric)\n",
    "score=pd.DataFrame(data.groupby(['Full Name']).sum())"
   ]
  },
  {
   "cell_type": "code",
   "execution_count": 13,
   "id": "narrow-europe",
   "metadata": {},
   "outputs": [],
   "source": [
    "for i in range(len(name)):\n",
    "    img_png = Image.open('Pics for assignment\\{}.png'.format(name[i]))\n",
    "    img_png.save('Pics jpg\\{}.jpg'.format(name[i]))\n",
    "    pdf=FPDF(orientation = 'P', unit = 'mm', format='A4')\n",
    "    pdf.add_page()\n",
    "    pdf.image('logo.jpg',x=20,y=5,w=50,h=50)\n",
    "    pdf.set_font('Arial','B',16)\n",
    "    pdf.cell(70,60)\n",
    "    pdf.cell(10,35,f'REPORT CARD',)\n",
    "    pdf.image('Pics jpg\\{}.jpg'.format(name[i]), x = 140, y = 40, w =50, h = 50, type = '', link = '')\n",
    "    pdf.set_font('Arial','B',10)\n",
    "    x=\"Name:{name1}\".format(name1 = name[i])\n",
    "    pdf.text( 30,  60,  x)\n",
    "    p=data.loc[data['Full Name']==name[i]]\n",
    "    a=p['Grade'].unique()\n",
    "    x='Grade:{}'.format(a[0])\n",
    "    pdf.text(30,65,x)\n",
    "    a=p['First Name'].unique()\n",
    "    x='First Name:{}'.format(a[0])\n",
    "    pdf.text(100,60,x)\n",
    "    a=p['Last Name'].unique()\n",
    "    x='Last Name:{}'.format(a[0])\n",
    "    pdf.text(100,65,x)\n",
    "    a=p['Name of School'].unique()\n",
    "    x='Name of School:{}'.format(a[0])\n",
    "    pdf.text(30,70,x)\n",
    "    p=data.loc[data['Full Name']==name[i]]\n",
    "    a=p['Registration Number'].unique()\n",
    "    x='Registration Number:{}'.format(a[0])\n",
    "    pdf.text(30,75,x)\n",
    "    a=p['Gender'].unique()\n",
    "    x='Gender:{}'.format(a[0])\n",
    "    pdf.text(30,80,x)\n",
    "    a=p['City of Residence'].unique()\n",
    "    x='City of Residence:{}'.format(a[0])\n",
    "    pdf.text(30,85,x)\n",
    "    a=p['Round'].unique()\n",
    "    x='Round:{}'.format(a[0])\n",
    "    pdf.text(30,90,x)\n",
    "    a=p['Date and time of test'].unique()\n",
    "    x='Date and time of test:{}'.format(a[0])\n",
    "    pdf.text(30,95,x)\n",
    "    a=p['Country of Residence'].unique()\n",
    "    x='Country of Residence:{}'.format(a[0])\n",
    "    pdf.text(30,100,x)\n",
    "    pdf.set_font('Times','B',16)\n",
    "    pdf.text(140,100,'Total Marks=100')\n",
    "    pdf.text(140,108,'Your Mark={}'.format(score.loc[name[i]][0]))\n",
    "    a=p['Final result'].unique()\n",
    "    x='Final Result:{}'.format(a[0])\n",
    "    pdf.text(20,130,x)\n",
    "    pdf.output('sample{}.pdf'.format(name[i]),'F')\n",
    "    pdf.output('report cards\\sample{}.pdf'.format(name[i]),'F')"
   ]
  },
  {
   "cell_type": "code",
   "execution_count": null,
   "id": "educated-wilson",
   "metadata": {},
   "outputs": [],
   "source": []
  }
 ],
 "metadata": {
  "kernelspec": {
   "display_name": "Python 3",
   "language": "python",
   "name": "python3"
  },
  "language_info": {
   "codemirror_mode": {
    "name": "ipython",
    "version": 3
   },
   "file_extension": ".py",
   "mimetype": "text/x-python",
   "name": "python",
   "nbconvert_exporter": "python",
   "pygments_lexer": "ipython3",
   "version": "3.9.2"
  }
 },
 "nbformat": 4,
 "nbformat_minor": 5
}
